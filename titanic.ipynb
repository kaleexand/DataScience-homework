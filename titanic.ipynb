{
  "nbformat": 4,
  "nbformat_minor": 0,
  "metadata": {
    "colab": {
      "name": "Untitled1.ipynb",
      "provenance": [],
      "collapsed_sections": [],
      "authorship_tag": "ABX9TyNjfLh/qNVSBv1Ybi3qvHPf",
      "include_colab_link": true
    },
    "kernelspec": {
      "name": "python3",
      "display_name": "Python 3"
    },
    "language_info": {
      "name": "python"
    }
  },
  "cells": [
    {
      "cell_type": "markdown",
      "metadata": {
        "id": "view-in-github",
        "colab_type": "text"
      },
      "source": [
        "<a href=\"https://colab.research.google.com/github/kaleexand/DataScience-homework/blob/main/titanic.ipynb\" target=\"_parent\"><img src=\"https://colab.research.google.com/assets/colab-badge.svg\" alt=\"Open In Colab\"/></a>"
      ]
    },
    {
      "cell_type": "code",
      "source": [
        "import pandas as pd\n",
        "from matplotlib import pyplot as plt\n",
        "\n",
        "df_train = pd.read_csv('train.csv')\n",
        "df_train"
      ],
      "metadata": {
        "colab": {
          "base_uri": "https://localhost:8080/",
          "height": 453
        },
        "id": "QVWuFLskJ7Nl",
        "outputId": "7b333f4b-1e5e-4757-cb3b-e4c5c8c947da"
      },
      "execution_count": 175,
      "outputs": [
        {
          "output_type": "execute_result",
          "data": {
            "text/html": [
              "<div>\n",
              "<style scoped>\n",
              "    .dataframe tbody tr th:only-of-type {\n",
              "        vertical-align: middle;\n",
              "    }\n",
              "\n",
              "    .dataframe tbody tr th {\n",
              "        vertical-align: top;\n",
              "    }\n",
              "\n",
              "    .dataframe thead th {\n",
              "        text-align: right;\n",
              "    }\n",
              "</style>\n",
              "<table border=\"1\" class=\"dataframe\">\n",
              "  <thead>\n",
              "    <tr style=\"text-align: right;\">\n",
              "      <th></th>\n",
              "      <th>PassengerId</th>\n",
              "      <th>Survived</th>\n",
              "      <th>Pclass</th>\n",
              "      <th>Name</th>\n",
              "      <th>Sex</th>\n",
              "      <th>Age</th>\n",
              "      <th>SibSp</th>\n",
              "      <th>Parch</th>\n",
              "      <th>Ticket</th>\n",
              "      <th>Fare</th>\n",
              "      <th>Cabin</th>\n",
              "      <th>Embarked</th>\n",
              "    </tr>\n",
              "  </thead>\n",
              "  <tbody>\n",
              "    <tr>\n",
              "      <th>0</th>\n",
              "      <td>1</td>\n",
              "      <td>0</td>\n",
              "      <td>3</td>\n",
              "      <td>Braund, Mr. Owen Harris</td>\n",
              "      <td>male</td>\n",
              "      <td>22.0</td>\n",
              "      <td>1</td>\n",
              "      <td>0</td>\n",
              "      <td>A/5 21171</td>\n",
              "      <td>7.2500</td>\n",
              "      <td>NaN</td>\n",
              "      <td>S</td>\n",
              "    </tr>\n",
              "    <tr>\n",
              "      <th>1</th>\n",
              "      <td>2</td>\n",
              "      <td>1</td>\n",
              "      <td>1</td>\n",
              "      <td>Cumings, Mrs. John Bradley (Florence Briggs Th...</td>\n",
              "      <td>female</td>\n",
              "      <td>38.0</td>\n",
              "      <td>1</td>\n",
              "      <td>0</td>\n",
              "      <td>PC 17599</td>\n",
              "      <td>71.2833</td>\n",
              "      <td>C85</td>\n",
              "      <td>C</td>\n",
              "    </tr>\n",
              "    <tr>\n",
              "      <th>2</th>\n",
              "      <td>3</td>\n",
              "      <td>1</td>\n",
              "      <td>3</td>\n",
              "      <td>Heikkinen, Miss. Laina</td>\n",
              "      <td>female</td>\n",
              "      <td>26.0</td>\n",
              "      <td>0</td>\n",
              "      <td>0</td>\n",
              "      <td>STON/O2. 3101282</td>\n",
              "      <td>7.9250</td>\n",
              "      <td>NaN</td>\n",
              "      <td>S</td>\n",
              "    </tr>\n",
              "    <tr>\n",
              "      <th>3</th>\n",
              "      <td>4</td>\n",
              "      <td>1</td>\n",
              "      <td>1</td>\n",
              "      <td>Futrelle, Mrs. Jacques Heath (Lily May Peel)</td>\n",
              "      <td>female</td>\n",
              "      <td>35.0</td>\n",
              "      <td>1</td>\n",
              "      <td>0</td>\n",
              "      <td>113803</td>\n",
              "      <td>53.1000</td>\n",
              "      <td>C123</td>\n",
              "      <td>S</td>\n",
              "    </tr>\n",
              "    <tr>\n",
              "      <th>4</th>\n",
              "      <td>5</td>\n",
              "      <td>0</td>\n",
              "      <td>3</td>\n",
              "      <td>Allen, Mr. William Henry</td>\n",
              "      <td>male</td>\n",
              "      <td>35.0</td>\n",
              "      <td>0</td>\n",
              "      <td>0</td>\n",
              "      <td>373450</td>\n",
              "      <td>8.0500</td>\n",
              "      <td>NaN</td>\n",
              "      <td>S</td>\n",
              "    </tr>\n",
              "    <tr>\n",
              "      <th>...</th>\n",
              "      <td>...</td>\n",
              "      <td>...</td>\n",
              "      <td>...</td>\n",
              "      <td>...</td>\n",
              "      <td>...</td>\n",
              "      <td>...</td>\n",
              "      <td>...</td>\n",
              "      <td>...</td>\n",
              "      <td>...</td>\n",
              "      <td>...</td>\n",
              "      <td>...</td>\n",
              "      <td>...</td>\n",
              "    </tr>\n",
              "    <tr>\n",
              "      <th>886</th>\n",
              "      <td>887</td>\n",
              "      <td>0</td>\n",
              "      <td>2</td>\n",
              "      <td>Montvila, Rev. Juozas</td>\n",
              "      <td>male</td>\n",
              "      <td>27.0</td>\n",
              "      <td>0</td>\n",
              "      <td>0</td>\n",
              "      <td>211536</td>\n",
              "      <td>13.0000</td>\n",
              "      <td>NaN</td>\n",
              "      <td>S</td>\n",
              "    </tr>\n",
              "    <tr>\n",
              "      <th>887</th>\n",
              "      <td>888</td>\n",
              "      <td>1</td>\n",
              "      <td>1</td>\n",
              "      <td>Graham, Miss. Margaret Edith</td>\n",
              "      <td>female</td>\n",
              "      <td>19.0</td>\n",
              "      <td>0</td>\n",
              "      <td>0</td>\n",
              "      <td>112053</td>\n",
              "      <td>30.0000</td>\n",
              "      <td>B42</td>\n",
              "      <td>S</td>\n",
              "    </tr>\n",
              "    <tr>\n",
              "      <th>888</th>\n",
              "      <td>889</td>\n",
              "      <td>0</td>\n",
              "      <td>3</td>\n",
              "      <td>Johnston, Miss. Catherine Helen \"Carrie\"</td>\n",
              "      <td>female</td>\n",
              "      <td>NaN</td>\n",
              "      <td>1</td>\n",
              "      <td>2</td>\n",
              "      <td>W./C. 6607</td>\n",
              "      <td>23.4500</td>\n",
              "      <td>NaN</td>\n",
              "      <td>S</td>\n",
              "    </tr>\n",
              "    <tr>\n",
              "      <th>889</th>\n",
              "      <td>890</td>\n",
              "      <td>1</td>\n",
              "      <td>1</td>\n",
              "      <td>Behr, Mr. Karl Howell</td>\n",
              "      <td>male</td>\n",
              "      <td>26.0</td>\n",
              "      <td>0</td>\n",
              "      <td>0</td>\n",
              "      <td>111369</td>\n",
              "      <td>30.0000</td>\n",
              "      <td>C148</td>\n",
              "      <td>C</td>\n",
              "    </tr>\n",
              "    <tr>\n",
              "      <th>890</th>\n",
              "      <td>891</td>\n",
              "      <td>0</td>\n",
              "      <td>3</td>\n",
              "      <td>Dooley, Mr. Patrick</td>\n",
              "      <td>male</td>\n",
              "      <td>32.0</td>\n",
              "      <td>0</td>\n",
              "      <td>0</td>\n",
              "      <td>370376</td>\n",
              "      <td>7.7500</td>\n",
              "      <td>NaN</td>\n",
              "      <td>Q</td>\n",
              "    </tr>\n",
              "  </tbody>\n",
              "</table>\n",
              "<p>891 rows × 12 columns</p>\n",
              "</div>"
            ],
            "text/plain": [
              "     PassengerId  Survived  Pclass  ...     Fare Cabin  Embarked\n",
              "0              1         0       3  ...   7.2500   NaN         S\n",
              "1              2         1       1  ...  71.2833   C85         C\n",
              "2              3         1       3  ...   7.9250   NaN         S\n",
              "3              4         1       1  ...  53.1000  C123         S\n",
              "4              5         0       3  ...   8.0500   NaN         S\n",
              "..           ...       ...     ...  ...      ...   ...       ...\n",
              "886          887         0       2  ...  13.0000   NaN         S\n",
              "887          888         1       1  ...  30.0000   B42         S\n",
              "888          889         0       3  ...  23.4500   NaN         S\n",
              "889          890         1       1  ...  30.0000  C148         C\n",
              "890          891         0       3  ...   7.7500   NaN         Q\n",
              "\n",
              "[891 rows x 12 columns]"
            ]
          },
          "metadata": {},
          "execution_count": 175
        }
      ]
    },
    {
      "cell_type": "code",
      "source": [
        "import pandas as pd\n",
        "from matplotlib import pyplot as plt\n",
        "\n",
        "df_train = pd.read_csv('train.csv')\n",
        "women = df_train[(df_train['Sex'] == \"female\")]\n",
        "men = df_train[(df_train['Sex'] == \"male\")]\n",
        "print(\"Количество женщин:\", women.PassengerId.count())\n",
        "print(\"Количество мужчин:\", men.PassengerId.count())\n"
      ],
      "metadata": {
        "colab": {
          "base_uri": "https://localhost:8080/"
        },
        "id": "_7YbkK1-x0mo",
        "outputId": "edf22082-9a50-4d5e-fb58-471584b13320"
      },
      "execution_count": 176,
      "outputs": [
        {
          "output_type": "stream",
          "name": "stdout",
          "text": [
            "Количество женщин: 314\n",
            "Количество мужчин: 577\n"
          ]
        }
      ]
    },
    {
      "cell_type": "code",
      "source": [
        "# df_train.describe()\n",
        "print(\"Средний возраст:\", df_train.Age.mean())"
      ],
      "metadata": {
        "colab": {
          "base_uri": "https://localhost:8080/"
        },
        "id": "NutR1DNiEzyh",
        "outputId": "4a338f93-7708-4dbc-fd82-d67474a49bf6"
      },
      "execution_count": 177,
      "outputs": [
        {
          "output_type": "stream",
          "name": "stdout",
          "text": [
            "Средний возраст: 29.69911764705882\n"
          ]
        }
      ]
    },
    {
      "cell_type": "code",
      "source": [
        "# describe_fields = [\"Age\"]\n",
        "print(\"Средний возраст мужчин:\",df_train[df_train.Sex == \"male\"].Age.mean())\n",
        "print(\"Средний возраст женщин:\",df_train[df_train.Sex == \"female\"].Age.mean())"
      ],
      "metadata": {
        "colab": {
          "base_uri": "https://localhost:8080/"
        },
        "id": "6JZnVLby3ZQ7",
        "outputId": "d4afba13-c084-400b-b883-36c71f45f3b5"
      },
      "execution_count": 178,
      "outputs": [
        {
          "output_type": "stream",
          "name": "stdout",
          "text": [
            "Средний возраст мужчин: 30.72664459161148\n",
            "Средний возраст женщин: 27.915708812260537\n"
          ]
        }
      ]
    },
    {
      "cell_type": "code",
      "source": [
        "women_p1= df_train[(df_train['Sex'] == \"female\") & (df_train['Pclass'] == 1)]\n",
        "women_p2= df_train[(df_train['Sex'] == \"female\") & (df_train['Pclass'] == 2)]\n",
        "women_p3= df_train[(df_train['Sex'] == \"female\") & (df_train['Pclass'] == 3)]\n",
        "men_p1= df_train[(df_train['Sex'] == \"male\") & (df_train['Pclass'] == 1)]\n",
        "men_p2= df_train[(df_train['Sex'] == \"male\") & (df_train['Pclass'] == 2)]\n",
        "men_p3= df_train[(df_train['Sex'] == \"male\") & (df_train['Pclass'] == 3)]\n",
        "\n",
        "print(\"Средний возраст мужчин 1 класс:\",men_p1.Age.mean())\n",
        "print(\"Средний возраст мужчин 2 класс:\",men_p2.Age.mean())\n",
        "print(\"Средний возраст мужчин 3 класс:\",men_p3.Age.mean())\n",
        "print(\"Средний возраст женщин 1 класс:\",women_p1.Age.mean())\n",
        "print(\"Средний возраст женщин 2 класс:\",women_p2.Age.mean())\n",
        "print(\"Средний возраст женщин 3 класс:\",women_p3.Age.mean())\n",
        "\n"
      ],
      "metadata": {
        "colab": {
          "base_uri": "https://localhost:8080/"
        },
        "id": "n8nmN6CN-zXZ",
        "outputId": "77ba448e-b581-48ad-c087-3378a5a994f1"
      },
      "execution_count": 184,
      "outputs": [
        {
          "output_type": "stream",
          "name": "stdout",
          "text": [
            "Средний возраст мужчин 1 класс: 41.28138613861386\n",
            "Средний возраст мужчин 2 класс: 30.74070707070707\n",
            "Средний возраст мужчин 3 класс: 26.507588932806325\n",
            "Средний возраст женщин 1 класс: 34.61176470588235\n",
            "Средний возраст женщин 2 класс: 28.722972972972972\n",
            "Средний возраст женщин 3 класс: 21.75\n"
          ]
        },
        {
          "output_type": "execute_result",
          "data": {
            "text/plain": [
              "<pandas.core.groupby.generic.SeriesGroupBy object at 0x7fe122c30710>"
            ]
          },
          "metadata": {},
          "execution_count": 184
        }
      ]
    },
    {
      "cell_type": "code",
      "source": [
        "women_no_s= df_train[(df_train['Sex'] == \"female\") & (df_train['Survived'] == 0)]\n",
        "women_s= df_train[(df_train['Sex'] == \"female\") & (df_train['Survived'] == 1)]\n",
        "\n",
        "men_no_s= df_train[(df_train['Sex'] == \"male\") & (df_train['Survived'] == 0)]\n",
        "men_s= df_train[(df_train['Sex'] == \"male\") & (df_train['Survived'] == 1)]\n",
        "\n",
        "print(\"Средний возраст выживших мужчин:\",men_s.Age.mean())\n",
        "print(\"Средний возраст не выживших мужчин:\",men_no_s.Age.mean())\n",
        "print(\"Средний возраст выживших женщин:\",women_s.Age.mean())\n",
        "print(\"Средний возраст не выживших  женщин:\",women_no_s.Age.mean())"
      ],
      "metadata": {
        "colab": {
          "base_uri": "https://localhost:8080/"
        },
        "id": "8E0OfvhnGfaI",
        "outputId": "222a3dde-ce92-4aa1-fccb-15f76a67a115"
      },
      "execution_count": 180,
      "outputs": [
        {
          "output_type": "stream",
          "name": "stdout",
          "text": [
            "Средний возраст выживших мужчин: 27.276021505376345\n",
            "Средний возраст не выживших мужчин: 31.618055555555557\n",
            "Средний возраст выживших женщин: 28.84771573604061\n",
            "Средний возраст не выживших  женщин: 25.046875\n"
          ]
        }
      ]
    },
    {
      "cell_type": "code",
      "source": [
        "cnt_pas = df_train.PassengerId.count()\n",
        "print(\"Процент выживших мужчин:\",men_s.PassengerId.count()/cnt_pas,\"%\")\n",
        "print(\"Процент выживших женщин:\",women_s.PassengerId.count()/cnt_pas,\"%\")"
      ],
      "metadata": {
        "colab": {
          "base_uri": "https://localhost:8080/"
        },
        "id": "4tWJwvfyINyN",
        "outputId": "c2e1b198-6dd2-4bce-c80c-f4aa39b98251"
      },
      "execution_count": 181,
      "outputs": [
        {
          "output_type": "stream",
          "name": "stdout",
          "text": [
            "Процент выживших мужчин: 0.122334455667789 %\n",
            "Процент выживших женщин: 0.2615039281705948 %\n"
          ]
        }
      ]
    },
    {
      "cell_type": "code",
      "source": [
        "p1 = df_train[(df_train['Pclass'] == 1) & (df_train['Survived'] == 1)]\n",
        "p2 = df_train[(df_train['Pclass'] == 2) & (df_train['Survived'] == 1)]\n",
        "p3 = df_train[(df_train['Pclass'] == 3) & (df_train['Survived'] == 1)]\n",
        "\n",
        "print(\"Процент выживших относительно каждого класса\")\n",
        "print(\"Процент выживших 1 класс:\",p1.PassengerId.count()/cnt_pas,\"%\")\n",
        "print(\"Процент выживших 2 класс:\",p2.PassengerId.count()/cnt_pas,\"%\")\n",
        "print(\"Процент выживших 3 класс:\",p3.PassengerId.count()/cnt_pas,\"%\")"
      ],
      "metadata": {
        "colab": {
          "base_uri": "https://localhost:8080/"
        },
        "id": "OxOumqSnHymj",
        "outputId": "69ec6b1e-970d-4a98-a592-1aabaca9886e"
      },
      "execution_count": 182,
      "outputs": [
        {
          "output_type": "stream",
          "name": "stdout",
          "text": [
            "Процент выживших относительно каждого класса\n",
            "Процент выживших 1 класс: 0.1526374859708193 %\n",
            "Процент выживших 2 класс: 0.09764309764309764 %\n",
            "Процент выживших 3 класс: 0.1335578002244669 %\n"
          ]
        }
      ]
    },
    {
      "cell_type": "markdown",
      "source": [
        "Проверим гипотезу в какой степени **Sex (пол)** и **Pclass (класс)**  повлияли на то, выживет конкретный человек или нет."
      ],
      "metadata": {
        "id": "43JFO1PxKvij"
      }
    },
    {
      "cell_type": "code",
      "source": [
        "df_train.groupby([\"Pclass\", \"Sex\"])[\"Survived\"].value_counts(normalize=True)"
      ],
      "metadata": {
        "colab": {
          "base_uri": "https://localhost:8080/"
        },
        "id": "0zb2aoo7KENW",
        "outputId": "cfdfbd4e-26f8-4249-a3e9-a0e6c92dbf3f"
      },
      "execution_count": 187,
      "outputs": [
        {
          "output_type": "execute_result",
          "data": {
            "text/plain": [
              "Pclass  Sex     Survived\n",
              "1       female  1           0.968085\n",
              "                0           0.031915\n",
              "        male    0           0.631148\n",
              "                1           0.368852\n",
              "2       female  1           0.921053\n",
              "                0           0.078947\n",
              "        male    0           0.842593\n",
              "                1           0.157407\n",
              "3       female  0           0.500000\n",
              "                1           0.500000\n",
              "        male    0           0.864553\n",
              "                1           0.135447\n",
              "Name: Survived, dtype: float64"
            ]
          },
          "metadata": {},
          "execution_count": 187
        }
      ]
    },
    {
      "cell_type": "markdown",
      "source": [
        "Рассмотрим по первому классу, **female** (женщина) и **Survived** выживет ли она - 1 или не выживет - 0.\n",
        "\n",
        "Исходя из данных, если это была женщина из 1 класса, это практически 100% гарантия, что она выживет (0,968085). У мужчин из 1 класса иная статистика, можно предположить, что они спасали женщин, но можно увидеть, что выживаемость мужчин из 1 класса выше ( ~37%), чем у мужчин 2( ~16%) и 3( ~14%) классов.\n",
        "\n",
        "Сравним женщин из всех классов. Оценка выживаемости женщин из 2 класса ~92%, из 3 класса хуже ~50%. \n",
        "\n",
        "Самая маленькая вероятность выживаемости около 14% была у мужчин из 3 класса. Из 100 мужчин 3 класса только 14 спасалось.\n"
      ],
      "metadata": {
        "id": "pddtJrLYLeoJ"
      }
    },
    {
      "cell_type": "code",
      "source": [
        "from pandas import read_csv, DataFrame, Series"
      ],
      "metadata": {
        "id": "RgsTCCWtQAYE"
      },
      "execution_count": 188,
      "outputs": []
    },
    {
      "cell_type": "code",
      "source": [
        "fig, axes = plt.subplots(ncols=2)\n",
        "df_train.pivot_table('PassengerId', ['SibSp'], 'Survived', 'count').plot(ax=axes[0], title='SibSp')\n",
        "df_train.pivot_table('PassengerId', ['Parch'], 'Survived', 'count').plot(ax=axes[1], title='Parch')"
      ],
      "metadata": {
        "colab": {
          "base_uri": "https://localhost:8080/",
          "height": 312
        },
        "id": "k8va_5qzQxyb",
        "outputId": "bbfe09ab-b3fa-471a-d9b1-99b3c3a62f62"
      },
      "execution_count": 196,
      "outputs": [
        {
          "output_type": "execute_result",
          "data": {
            "text/plain": [
              "<matplotlib.axes._subplots.AxesSubplot at 0x7fe12244ced0>"
            ]
          },
          "metadata": {},
          "execution_count": 196
        },
        {
          "output_type": "display_data",
          "data": {
            "image/png": "[encoded data removed]",
            "text/plain": [
              "<Figure size 432x288 with 2 Axes>"
            ]
          },
          "metadata": {
            "needs_background": "light"
          }
        }
      ]
    }
  ]
}